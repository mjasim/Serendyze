{
 "cells": [
  {
   "cell_type": "code",
   "execution_count": 270,
   "metadata": {},
   "outputs": [],
   "source": [
    "import logging\n",
    "logging.basicConfig(format='%(asctime)s : %(levelname)s : %(message)s', level=logging.INFO)"
   ]
  },
  {
   "cell_type": "code",
   "execution_count": 271,
   "metadata": {},
   "outputs": [
    {
     "data": {
      "text/html": [
       "<div>\n",
       "<style scoped>\n",
       "    .dataframe tbody tr th:only-of-type {\n",
       "        vertical-align: middle;\n",
       "    }\n",
       "\n",
       "    .dataframe tbody tr th {\n",
       "        vertical-align: top;\n",
       "    }\n",
       "\n",
       "    .dataframe thead th {\n",
       "        text-align: right;\n",
       "    }\n",
       "</style>\n",
       "<table border=\"1\" class=\"dataframe\">\n",
       "  <thead>\n",
       "    <tr style=\"text-align: right;\">\n",
       "      <th></th>\n",
       "      <th>comments</th>\n",
       "      <th>discourses</th>\n",
       "      <th>discussion_id</th>\n",
       "      <th>discussion_name</th>\n",
       "      <th>number_of_comments</th>\n",
       "      <th>topics</th>\n",
       "    </tr>\n",
       "  </thead>\n",
       "  <tbody>\n",
       "    <tr>\n",
       "      <th>0</th>\n",
       "      <td>[{'comment_id': 0, 'comment': 'A structure or ...</td>\n",
       "      <td>[{'discourse_name': 'question', 'count': 7, 'c...</td>\n",
       "      <td>1</td>\n",
       "      <td>Build a tower</td>\n",
       "      <td>36</td>\n",
       "      <td>[{'topic_phrase': 'increased mobility', 'topic...</td>\n",
       "    </tr>\n",
       "    <tr>\n",
       "      <th>1</th>\n",
       "      <td>[{'comment_id': 36, 'comment': 'This could be ...</td>\n",
       "      <td>[{'discourse_name': 'question', 'count': 0, 'c...</td>\n",
       "      <td>2</td>\n",
       "      <td>Public Art</td>\n",
       "      <td>23</td>\n",
       "      <td>[{'topic_phrase': 'bad art', 'topic_keywords':...</td>\n",
       "    </tr>\n",
       "    <tr>\n",
       "      <th>2</th>\n",
       "      <td>[{'comment_id': 59, 'comment': 'It's more diff...</td>\n",
       "      <td>[{'discourse_name': 'question', 'count': 1, 'c...</td>\n",
       "      <td>3</td>\n",
       "      <td>Roundabout</td>\n",
       "      <td>26</td>\n",
       "      <td>[{'topic_phrase': 'roundabouts', 'topic_keywor...</td>\n",
       "    </tr>\n",
       "  </tbody>\n",
       "</table>\n",
       "</div>"
      ],
      "text/plain": [
       "                                            comments  \\\n",
       "0  [{'comment_id': 0, 'comment': 'A structure or ...   \n",
       "1  [{'comment_id': 36, 'comment': 'This could be ...   \n",
       "2  [{'comment_id': 59, 'comment': 'It's more diff...   \n",
       "\n",
       "                                          discourses  discussion_id  \\\n",
       "0  [{'discourse_name': 'question', 'count': 7, 'c...              1   \n",
       "1  [{'discourse_name': 'question', 'count': 0, 'c...              2   \n",
       "2  [{'discourse_name': 'question', 'count': 1, 'c...              3   \n",
       "\n",
       "  discussion_name  number_of_comments  \\\n",
       "0   Build a tower                  36   \n",
       "1      Public Art                  23   \n",
       "2      Roundabout                  26   \n",
       "\n",
       "                                              topics  \n",
       "0  [{'topic_phrase': 'increased mobility', 'topic...  \n",
       "1  [{'topic_phrase': 'bad art', 'topic_keywords':...  \n",
       "2  [{'topic_phrase': 'roundabouts', 'topic_keywor...  "
      ]
     },
     "execution_count": 271,
     "metadata": {},
     "output_type": "execute_result"
    }
   ],
   "source": [
    "import pandas as pd\n",
    "\n",
    "df = pd.read_json(\"mat_data_cc.json\")\n",
    "df.head(3)"
   ]
  },
  {
   "cell_type": "code",
   "execution_count": 272,
   "metadata": {},
   "outputs": [],
   "source": [
    "prop_data = df.loc[df[\"discussion_name\"] == \"Roundabout\"]\n",
    "comment_list = prop_data.comments.tolist()"
   ]
  },
  {
   "cell_type": "code",
   "execution_count": 273,
   "metadata": {},
   "outputs": [],
   "source": [
    "documents = [c[\"comment\"] for c in comment_list[0]]\n",
    "doc = comment_list[17]"
   ]
  },
  {
   "cell_type": "code",
   "execution_count": 274,
   "metadata": {},
   "outputs": [
    {
     "name": "stderr",
     "output_type": "stream",
     "text": [
      "2020-07-18 15:39:41,441 : INFO : adding document #0 to Dictionary(0 unique tokens: [])\n",
      "2020-07-18 15:39:41,443 : INFO : built Dictionary(98 unique tokens: ['if', 'it', \"it's\", 'makes', 'more']...) from 26 documents (total 360 corpus positions)\n"
     ]
    }
   ],
   "source": [
    "from collections import defaultdict\n",
    "from gensim import corpora\n",
    "\n",
    "# remove common words and tokenize\n",
    "stoplist = set('for a of the and to in'.split())\n",
    "texts = [\n",
    "    [word for word in document.lower().split() if word not in stoplist]\n",
    "    for document in documents\n",
    "]\n",
    "\n",
    "# remove words that appear only once\n",
    "frequency = defaultdict(int)\n",
    "for text in texts:\n",
    "    for token in text:\n",
    "        frequency[token] += 1\n",
    "\n",
    "texts = [\n",
    "    [token for token in text if frequency[token] > 1]\n",
    "    for text in texts\n",
    "]\n",
    "\n",
    "dictionary = corpora.Dictionary(texts)\n",
    "corpus = [dictionary.doc2bow(text) for text in texts]"
   ]
  },
  {
   "cell_type": "code",
   "execution_count": 275,
   "metadata": {},
   "outputs": [
    {
     "name": "stderr",
     "output_type": "stream",
     "text": [
      "2020-07-18 15:39:41,615 : INFO : using serial LSI version on this node\n",
      "2020-07-18 15:39:41,616 : INFO : updating model with new documents\n",
      "2020-07-18 15:39:41,616 : INFO : preparing a new chunk of documents\n",
      "2020-07-18 15:39:41,617 : INFO : using 100 extra samples and 2 power iterations\n",
      "2020-07-18 15:39:41,618 : INFO : 1st phase: constructing (98, 300) action matrix\n",
      "2020-07-18 15:39:41,620 : INFO : orthonormalizing (98, 300) action matrix\n",
      "2020-07-18 15:39:41,628 : INFO : 2nd phase: running dense svd on (98, 26) matrix\n",
      "2020-07-18 15:39:41,629 : INFO : computing the final decomposition\n",
      "2020-07-18 15:39:41,630 : INFO : keeping 26 factors (discarding 0.000% of energy spectrum)\n",
      "2020-07-18 15:39:41,630 : INFO : processed documents up to #26\n",
      "2020-07-18 15:39:41,631 : INFO : topic #0(15.032): 0.372*\"is\" + 0.334*\"be\" + 0.283*\"traffic\" + 0.255*\"motor\" + 0.232*\"as\" + 0.215*\"that\" + 0.194*\"on\" + 0.167*\"could\" + 0.149*\"into\" + 0.134*\"they\"\n",
      "2020-07-18 15:39:41,633 : INFO : topic #1(7.406): -0.226*\"if\" + -0.219*\"or\" + -0.215*\"this\" + 0.208*\"could\" + -0.203*\"are\" + -0.201*\"traffic.\" + -0.192*\"only\" + -0.179*\"trolley\" + 0.170*\"on\" + -0.168*\"should\"\n",
      "2020-07-18 15:39:41,633 : INFO : topic #2(6.924): -0.331*\"they\" + 0.306*\"areas\" + 0.278*\"it\" + 0.233*\"as\" + 0.214*\"should\" + 0.204*\"5\" + 0.201*\"pedestrians\" + 0.190*\"i\" + -0.183*\"traffic\" + 0.180*\"be\"\n",
      "2020-07-18 15:39:41,634 : INFO : topic #3(6.128): 0.397*\"they\" + -0.366*\"be\" + 0.271*\"as\" + 0.233*\"are\" + 0.213*\"roundabout\" + 0.211*\"areas\" + -0.198*\"only\" + 0.190*\"it\" + 0.188*\"rush\" + -0.184*\"or\"\n",
      "2020-07-18 15:39:41,635 : INFO : topic #4(5.503): 0.521*\"it\" + 0.304*\"would\" + 0.279*\"is\" + -0.210*\"areas\" + 0.193*\"area\" + -0.183*\"should\" + 0.162*\"love\" + -0.152*\"pedestrians\" + -0.148*\"motor\" + 0.148*\"that\"\n"
     ]
    }
   ],
   "source": [
    "from gensim import models\n",
    "lsi = models.LsiModel(corpus, id2word=dictionary)"
   ]
  },
  {
   "cell_type": "code",
   "execution_count": 276,
   "metadata": {},
   "outputs": [
    {
     "name": "stdout",
     "output_type": "stream",
     "text": [
      "[(0, 0.3897074696319121), (1, 0.05955613948181116), (2, 0.417216427338147), (3, 0.11399014433494459), (4, 0.4736872809308651), (5, -0.360144719753604), (6, 0.4220228833126771), (7, -0.2281254377024097), (8, -0.03645113669221394), (9, 0.4077976609480935), (10, 0.3781213579425288), (11, 0.2412549128507068), (12, 0.30102098051382664), (13, -1.0750106657104086), (14, 0.4467463027776967), (15, -0.04503310672114176), (16, 0.05692860722114666), (17, 0.9041561437674349), (18, 0.950029716545209), (19, -0.6969425800150169), (20, 0.05162062325535405), (21, 0.04254517426025235), (22, 0.20028701716728597), (23, 0.04328242240485548), (24, 0.00724299747899831), (25, -0.03271439955500394)]\n"
     ]
    },
    {
     "data": {
      "text/plain": [
       "'Probably makes it worse due to the larger distances and awkward crossings required at roundabouts.'"
      ]
     },
     "execution_count": 276,
     "metadata": {},
     "output_type": "execute_result"
    }
   ],
   "source": [
    "vec_bow = dictionary.doc2bow(doc.lower().split())\n",
    "vec_lsi = lsi[vec_bow]  # convert the query to LSI space\n",
    "print(vec_lsi)\n",
    "\n",
    "doc"
   ]
  },
  {
   "cell_type": "code",
   "execution_count": 277,
   "metadata": {},
   "outputs": [
    {
     "name": "stderr",
     "output_type": "stream",
     "text": [
      "2020-07-18 15:39:41,910 : WARNING : scanning corpus to determine the number of features (consider setting `num_features` explicitly)\n",
      "2020-07-18 15:39:41,912 : INFO : creating matrix with 26 documents and 26 features\n",
      "C:\\Users\\ziabd\\Anaconda3\\lib\\site-packages\\gensim\\matutils.py:737: FutureWarning: Conversion of the second argument of issubdtype from `int` to `np.signedinteger` is deprecated. In future, it will be treated as `np.int32 == np.dtype(int).type`.\n",
      "  if np.issubdtype(vec.dtype, np.int):\n"
     ]
    }
   ],
   "source": [
    "from gensim import similarities\n",
    "index = similarities.MatrixSimilarity(lsi[corpus])  # transform corpus to LSI space and index it"
   ]
  },
  {
   "cell_type": "code",
   "execution_count": 278,
   "metadata": {},
   "outputs": [
    {
     "name": "stdout",
     "output_type": "stream",
     "text": [
      "[(0, 0.31622776), (1, 0.10259784), (2, -1.8721039e-08), (3, 0.27975145), (4, 0.13187611), (5, -7.21775e-09), (6, -7.0244823e-09), (7, 0.1490712), (8, 0.31622776), (9, 0.16903085), (10, 0.14142135), (11, 0.06388767), (12, 2.64572e-09), (13, 0.44721362), (14, 0.09534626), (15, 0.1700051), (16, 1.3315002e-09), (17, 1.0), (18, 1.4770194e-09), (19, 0.111803375), (20, 1.8117134e-08), (21, 0.18257421), (22, -4.0308805e-09), (23, -2.6775524e-08), (24, 8.1490725e-09), (25, 8.600182e-09)]\n"
     ]
    }
   ],
   "source": [
    "sims = index[vec_lsi]  # perform a similarity query against the corpus\n",
    "print(list(enumerate(sims)))  # print (document_number, document_similarity) 2-tuples"
   ]
  },
  {
   "cell_type": "code",
   "execution_count": 287,
   "metadata": {
    "scrolled": true
   },
   "outputs": [
    {
     "data": {
      "text/plain": [
       "[{'id': 17,\n",
       "  'comment': 'Probably makes it worse due to the larger distances and awkward crossings required at roundabouts.',\n",
       "  'score': '1.0'},\n",
       " {'id': 13, 'comment': \"It won't.\", 'score': '0.44721362'},\n",
       " {'id': 0,\n",
       "  'comment': \"It's more difficult than it seems and only makes sense if there's a lot of traffic.\",\n",
       "  'score': '0.31622776'},\n",
       " {'id': 8,\n",
       "  'comment': 'None.  It enables pedestrians and vehicles to coexist without building bridges.',\n",
       "  'score': '0.31622776'},\n",
       " {'id': 3,\n",
       "  'comment': 'As long as we can make it work from a traffic perspective, I love it. It would transform the entire area and it is a very important connection point in downtown.',\n",
       "  'score': '0.27975145'},\n",
       " {'id': 21,\n",
       "  'comment': 'its a traffic circulation element, not a place. not about human interactions at all.',\n",
       "  'score': '0.18257421'},\n",
       " {'id': 15,\n",
       "  'comment': \"I have come up with these idea to maximize safety. Currently downtown is very unsafe due to the rush of motor traffic on every street as well as no space for dogs to have a good run. I've notice dogs becoming more aggressive as they must live in apartments and when hey come out on the street it is chaotic and full of noise, sirens, and other unfamiliar dogs. I've seen several dog fights and attacks recently. Additionally, just a simple walk tot he grocery store is nerve wracking, due to motor traffic everywhere at high speeds. My suggestion is that high rise parking be built on one block where the freeways empty into downtown and people be required to park there and take shuttles into the city center. (Very common in most European cities). The emptied streets could then be planted up with green islands that people could actually use to walk, sit in, socialize, and some could be turned in dog runs. You cannot create pedestrian friendly space in a place where motor traffic dominates the area. it's that simple.\",\n",
       "  'score': '0.1700051'},\n",
       " {'id': 9,\n",
       "  'comment': \"I don't think it would impact the quality of life in the area.\",\n",
       "  'score': '0.16903085'},\n",
       " {'id': 7,\n",
       "  'comment': 'It depends on the number of connecting streets. What is most common in other international cities that incorporate their usage?',\n",
       "  'score': '0.1490712'},\n",
       " {'id': 10,\n",
       "  'comment': \"Would likely make it more dangerous if the space isn't activated and the trolley still runs through here.\",\n",
       "  'score': '0.14142135'},\n",
       " {'id': 4,\n",
       "  'comment': 'I think a roundabout at El Nudillo should have 10 crosswalks. There are currently 3 streets forming the intersection, but 5 areas for pedestrians to come from.  If a roundabout were to be created, it should allow for pedestrians to cross from any one of the 5 areas to another of the areas as well as a possible center.',\n",
       "  'score': '0.13187611'},\n",
       " {'id': 19,\n",
       "  'comment': \"Love Columbus Circle, but the trolley overly complicates this current location and it's not a similar space, especially since it is activated by all the pedestrian activity that is adjacent in Central Park.\",\n",
       "  'score': '0.111803375'},\n",
       " {'id': 1,\n",
       "  'comment': \"This doesn't seem that feasible due to the trolley tracks and the need to control traffic here, which is in direct conflict with a roundabout which is supposed to be free flowing for traffic.\",\n",
       "  'score': '0.10259784'},\n",
       " {'id': 14,\n",
       "  'comment': \"I don't really know what safety is like in the area right now, but it appears to be a confusing intersection. My guess would be that putting in a roundabout would simplify things enough to improve the safety.\",\n",
       "  'score': '0.09534626'},\n",
       " {'id': 11,\n",
       "  'comment': 'If roundabouts are put into the center of motor traffic there will be more pedestrians at risk of injury or death from motors traffic. If no motor traffic is allowed and only Free Ride carts or a small trolley like the Vintage one is int he area, this would be a lovely safe space for pedestrians.',\n",
       "  'score': '0.06388767'},\n",
       " {'id': 20,\n",
       "  'comment': 'Traffic circles will not inspire me to go anywhere.',\n",
       "  'score': '1.8117134e-08'},\n",
       " {'id': 25,\n",
       "  'comment': 'Pedestrian crossing as well as confusing vehicle directions will be improved.',\n",
       "  'score': '8.600182e-09'},\n",
       " {'id': 24, 'comment': 'safety neutral', 'score': '8.1490725e-09'},\n",
       " {'id': 12,\n",
       "  'comment': 'Roundabouts keep traffic flowing and offer an opportunity for iconic public art in the middle or on adjacent property.',\n",
       "  'score': '2.64572e-09'},\n",
       " {'id': 18,\n",
       "  'comment': 'The only way for this to be a pleasant and civilized design is to restrict private vehicle motor traffic. Free Ride carts, the trolley or bikes should be the only traffic allowed in the area. And greenery should be lush in order to mimics air pollution and create shade.',\n",
       "  'score': '1.4770194e-09'},\n",
       " {'id': 16,\n",
       "  'comment': 'I think this idea will positively impact mobility because with an increase in safety and crosswalks, the intersection a much more comfortable area to traverse.',\n",
       "  'score': '1.3315002e-09'},\n",
       " {'id': 22,\n",
       "  'comment': 'Roundabouts are safer than traditional intersections.',\n",
       "  'score': '-4.0308805e-09'},\n",
       " {'id': 6,\n",
       "  'comment': 'Crosswalks are extremely dangerous. Currently, motor traffic downtown dominates the landscape. Motorists do not wait for pedestrians. They turn in fronton us on their rush to go wherever they are going. They run lights and roll through stop signs. They rush around blind spots such as buses and monster SUVS and trucks and into pedestrian traffic. This idea of a roundabout that is int he center of motor traffic is a very dangerous idea.',\n",
       "  'score': '-7.0244823e-09'},\n",
       " {'id': 5, 'comment': '4 - one of each direction', 'score': '-7.21775e-09'},\n",
       " {'id': 2,\n",
       "  'comment': 'Roundabouts are most commonly used internationally, yet we have a few in San Diego. This type of functional \\\\intersection\\\\\" will add a distinctive element bridging Barrio Logan with East Village.\"',\n",
       "  'score': '-1.8721039e-08'},\n",
       " {'id': 23,\n",
       "  'comment': 'Auto traffic is improved, all else is negatively impacted.',\n",
       "  'score': '-2.6775524e-08'}]"
      ]
     },
     "execution_count": 287,
     "metadata": {},
     "output_type": "execute_result"
    }
   ],
   "source": [
    "#fix this\n",
    "\n",
    "sim_obj_list = []\n",
    "\n",
    "sorted_sims = sorted(enumerate(sims), key=lambda item: -item[1])\n",
    "for i, s in enumerate(sorted_sims):\n",
    "#     print(s, documents[s[0]])\n",
    "    sim_obj_list.append({\"id\": s[0], \"comment\": documents[s[0]], \"score\": str(s[1])})\n",
    "\n",
    "sim_obj_list"
   ]
  },
  {
   "cell_type": "code",
   "execution_count": null,
   "metadata": {},
   "outputs": [],
   "source": []
  },
  {
   "cell_type": "code",
   "execution_count": 288,
   "metadata": {},
   "outputs": [],
   "source": []
  },
  {
   "cell_type": "code",
   "execution_count": 293,
   "metadata": {},
   "outputs": [
    {
     "data": {
      "text/plain": [
       "['This could be an obelisk or major art piece authored by Barrio artists.',\n",
       " 'It is envisioned as a small traffic roundabout with a major art piece in the center in the spirit of Tijuana or Mexico City.',\n",
       " 'Reach out to the School system (i.e. FIDM, NewSchool, Community College, soon-to-be UCSD)',\n",
       " \"I think it's a great idea. Will provide a space for exchanging ideas and cultural conversations.\",\n",
       " 'Relevant and great.',\n",
       " 'Public art always enlivens the area and sets a positive tone.  Just think of Millennial Park in Chicago.',\n",
       " 'AGAIN---COPYING ANOTHER IDEA....I think it should be something NEVER DONE BEFORE',\n",
       " 'Like this idea, but you will need to \\\\curate\\\\\" or make sure the art is appropriate.\"',\n",
       " 'I think its feasible, there is a lot of local artists',\n",
       " 'It can bring in tourist so it may impact the families who live there.',\n",
       " 'By beautifying the neighborhood, and having the community participate in the \\\\making\\\\\" will increase pride and care for all.\"',\n",
       " 'I dont think so.',\n",
       " 'more activity, people, likely to be safer',\n",
       " \"TRUE---any of the ideas only work if the homeless population is no longer there! It's a nightmare every where, #1 issue to be dealt with first.\",\n",
       " 'I like art a lot',\n",
       " 'I think a half-a-million dollar condo next to some ugly mural is, in fact, going to have a negative impact on quality of life.',\n",
       " 'It would beautify a blight area; allow the opportunity to involve the schools/universities into the project',\n",
       " 'It wont  because its art',\n",
       " 'No one is going to care that some four year old painted on the side of a building.',\n",
       " 'I have no idea what this is',\n",
       " 'Ideally it would help alleviate the tent camps',\n",
       " 'Bad art is not good enough to get me to visit.',\n",
       " 'It would make a safer \\\\bridge\\\\\" in traveling to the Barrio Logan.\"']"
      ]
     },
     "execution_count": 293,
     "metadata": {},
     "output_type": "execute_result"
    }
   ],
   "source": []
  },
  {
   "cell_type": "code",
   "execution_count": null,
   "metadata": {},
   "outputs": [],
   "source": []
  }
 ],
 "metadata": {
  "kernelspec": {
   "display_name": "Python 3",
   "language": "python",
   "name": "python3"
  },
  "language_info": {
   "codemirror_mode": {
    "name": "ipython",
    "version": 3
   },
   "file_extension": ".py",
   "mimetype": "text/x-python",
   "name": "python",
   "nbconvert_exporter": "python",
   "pygments_lexer": "ipython3",
   "version": "3.6.5"
  }
 },
 "nbformat": 4,
 "nbformat_minor": 2
}
